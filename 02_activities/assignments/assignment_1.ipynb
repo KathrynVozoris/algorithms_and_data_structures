{
 "cells": [
  {
   "cell_type": "markdown",
   "metadata": {},
   "source": [
    "# Coding Problems\n",
    "\n",
    "## Objective\n",
    "\n",
    "This assignment aims to demonstrate how to study a data structures or algorithms question in depth to prepare for an industry coding interview. Leetcode is a popular coding practice site that many use to practice for technical interviews. Like behavioral interviews, it's important to practice and keep your skills sharp.\n",
    "\n",
    "## Group Size\n",
    "\n",
    "Please complete this individually.\n",
    "\n",
    "## Part 1:\n",
    "\n",
    "_*You will be assigned one of three problems based of your first name. Execute the code below, and that will tell you your assigned problem. Include the output as part of your submission (do not clear the output). The problems are based-off problems from Leetcode.*_\n"
   ]
  },
  {
   "cell_type": "code",
   "execution_count": 1,
   "metadata": {},
   "outputs": [
    {
     "name": "stdout",
     "output_type": "stream",
     "text": [
      "3\n"
     ]
    }
   ],
   "source": [
    "print((hash('Kathryn') % 3) + 1)"
   ]
  },
  {
   "cell_type": "markdown",
   "metadata": {},
   "source": [
    "<details>\n",
    "  <summary>Question 1</summary>\n",
    "\n",
    "  # Question One: Check Duplicates in Tree\n",
    "\n",
    "  Given the `root` of a binary tree, check whether it is contains a duplicate value. If a duplicate exists, return the duplicate value. If there are multiple duplicates, return the one with the closest distance to the root. If no duplicate exists, return -1.\n",
    "\n",
    "  ## Examples\n",
    "\n",
    "  ### Example 1\n",
    "\n",
    "  ![](./images/q1_ex1.png)\n",
    "\n",
    "  Input: `root = [1, 2, 2, 3, 5, 6, 7]` *What traversal method is this?*\n",
    "\n",
    "  Output: 2\n",
    "\n",
    "  ### Example 2\n",
    "\n",
    "  ![](./images/q1_ex2.png)\n",
    "\n",
    "  Input: `root = [1, 10, 2, 3, 10, 12, 12]`\n",
    "\n",
    "  Output: 10\n",
    "\n",
    "  ### Example 3\n",
    "\n",
    "  ![](./images/q1_ex3.png)\n",
    "\n",
    "  Input: `root = [10, 9, 8, 7]`\n",
    "\n",
    "  Output: -1\n",
    "\n",
    "</details>\n",
    "\n",
    "#### Starter Code for Question 1"
   ]
  },
  {
   "cell_type": "code",
   "execution_count": null,
   "metadata": {},
   "outputs": [],
   "source": [
    "# Definition for a binary tree node.\n",
    "# class TreeNode(object):\n",
    "#     def __init__(self, val = 0, left = None, right = None):\n",
    "#         self.val = val\n",
    "#         self.left = left\n",
    "#         self.right = right\n",
    "def is_duplicate(root: TreeNode) -> int:\n",
    "  # TODO"
   ]
  },
  {
   "cell_type": "markdown",
   "metadata": {},
   "source": [
    "<details>\n",
    "  <summary>Question 2</summary>\n",
    "\n",
    "  # Question Two: Path to Leaves\n",
    "\n",
    "  Given the `root` of a binary tree, return all root to leaf paths in any order.\n",
    "\n",
    "  ## Examples\n",
    "\n",
    "  ### Example 1\n",
    "\n",
    "  ![](./images/q1_ex1.png)\n",
    "\n",
    "  Input: `root = [1, 2, 2, 3, 5, 6, 7]` *What traversal method is this?*\n",
    "\n",
    "  Output: [[1, 2, 3], [1, 2, 5], [1, 2, 6], [1, 2, 7]]\n",
    "\n",
    "  ### Example 2\n",
    "\n",
    "  ![](./images/q1_ex3.png)\n",
    "\n",
    "  Input: `root = [10, 9, 7, 8]`\n",
    "\n",
    "  Output: [[10, 7], [10, 9, 8]]\n",
    "\n",
    "</details>\n",
    "\n",
    "#### Starter Code for Question 2"
   ]
  },
  {
   "cell_type": "code",
   "execution_count": null,
   "metadata": {},
   "outputs": [],
   "source": [
    "# Definition for a binary tree node.\n",
    "# class TreeNode(object):\n",
    "#     def __init__(self, val = 0, left = None, right = None):\n",
    "#         self.val = val\n",
    "#         self.left = left\n",
    "#         self.right = right\n",
    "def bt_path(root: TreeNode) -> List[List[int]]:\n",
    "  # TODO"
   ]
  },
  {
   "cell_type": "markdown",
   "metadata": {},
   "source": [
    "<details>\n",
    "  <summary>Question 3</summary>\n",
    "\n",
    "  # Question Three: Missing Number in Range\n",
    " \n",
    "  You are given a list containing `n` integers in the range `[0, n]`. Return a list of numbers that are missing from the range `[0, n]` of the array. If there is no missing number, return -1. Note, all the integers in the list may not be unique.\n",
    "  \n",
    "  ## Examples\n",
    "\n",
    "  ### Example 1\n",
    "\n",
    "  Input: `lst = [0, 2]`\n",
    "\n",
    "  Output: [1]\n",
    "\n",
    "  ### Example 2\n",
    "\n",
    "  Input: `lst = [5, 0, 1]`\n",
    "\n",
    "  Output: [2, 3, 4]\n",
    "\n",
    "  ### Example 3\n",
    "\n",
    "  Input: `lst = [6, 8, 2, 3, 5, 7, 0, 1, 10]`\n",
    "\n",
    "  Output: [4, 9]\n",
    "\n",
    "</details>\n",
    "\n",
    "#### Starter Code for Question 3\n"
   ]
  },
  {
   "cell_type": "code",
   "execution_count": null,
   "metadata": {},
   "outputs": [],
   "source": [
    "def missing_num(nums: List) -> int:\n",
    "  # TODO"
   ]
  },
  {
   "cell_type": "markdown",
   "metadata": {},
   "source": [
    "\n",
    "## Part 2:\n",
    "\n",
    "-   Paraphrase the problem in your own words\n"
   ]
  },
  {
   "cell_type": "markdown",
   "metadata": {},
   "source": [
    "Given a list of integers as input (where 'n' is the largest integer in the list), create a function which will return a list 'missing_list' containing all integers between 0 and n that are not in the original list. If no integers in [0,..,n] are missing from the input list, then the function should return -1."
   ]
  },
  {
   "cell_type": "markdown",
   "metadata": {},
   "source": [
    "- In this .ipynb file, there are examples that illustrate how the code should work (the examples provided above). Create 2 new examples for the question you have been assigned, that demonstrate you understand the problem. For question 1 and 2, you don't need to create the tree demonstration, just the input and output.\n"
   ]
  },
  {
   "cell_type": "code",
   "execution_count": 164,
   "metadata": {},
   "outputs": [
    {
     "data": {
      "text/plain": [
       "[0, 2, 3, 4, 6]"
      ]
     },
     "execution_count": 164,
     "metadata": {},
     "output_type": "execute_result"
    }
   ],
   "source": [
    "missing_num([5, 7, 1, 5])"
   ]
  },
  {
   "cell_type": "code",
   "execution_count": 165,
   "metadata": {},
   "outputs": [
    {
     "data": {
      "text/plain": [
       "[1, 3, 4, 5]"
      ]
     },
     "execution_count": 165,
     "metadata": {},
     "output_type": "execute_result"
    }
   ],
   "source": [
    "missing_num([0,0,6,2,2])"
   ]
  },
  {
   "cell_type": "markdown",
   "metadata": {},
   "source": [
    "\n",
    "-   Code the solution to your assigned problem in Python (code chunk). Try to find the best time and space complexity solution!\n"
   ]
  },
  {
   "cell_type": "code",
   "execution_count": null,
   "metadata": {},
   "outputs": [
    {
     "name": "stdout",
     "output_type": "stream",
     "text": [
      "1. Expected output [1]:  [1]\n",
      "2. Expected output [2,3,4] [2, 3, 4]\n",
      "3. Expected output [4, 9]:  [4, 9]\n"
     ]
    }
   ],
   "source": [
    "def missing_num(nums):\n",
    "   if len(nums)==0:                                 # O(1)\n",
    "      return -1\n",
    "   n = max(nums)                                    # O(n)\n",
    "   \n",
    "   # Create the set {0,...,n}\n",
    "   n_range = set([x for x in range(n)])             # O(n) \n",
    "   \n",
    "   # Make 'nums' into a set, to get only unique values\n",
    "   # Remove set(nums) from the 'n_range' set\n",
    "   missing_set = n_range - set(nums)                # O(n)      \n",
    "   \n",
    "   # Transform 'missing_set' into a list\n",
    "   missing_list = [x for x in missing_set]          # O(n)\n",
    "   \n",
    "   if len(missing_list)==0:                          # O(1)             \n",
    "      return -1\n",
    "   else: return sorted(missing_list)                # O(nlogn)\n",
    "\n",
    "# Test example\n",
    "print('1. Expected output [1]: ', missing_num([0,2, 2]))\n",
    "\n",
    "print('2. Expected output [2,3,4]', missing_num([5, 0, 1]))\n",
    "\n",
    "print('3. Expected output [4, 9]: ', missing_num([6, 8, 2, 3, 5, 7, 0, 1, 10]))"
   ]
  },
  {
   "cell_type": "markdown",
   "metadata": {},
   "source": [
    "\n",
    "-   Explain why your solution works\n"
   ]
  },
  {
   "cell_type": "markdown",
   "metadata": {},
   "source": [
    "We assume 'nums' contains only non-negative integers. If the list 'nums' is empty return -1.\n",
    "\n",
    "We use the list method max() to find the maximum value 'n' that occurs in 'nums'.\n",
    "We create the set 'range_n' = {0,...,n}.\n",
    "\n",
    "We transform the list 'nums' into a set, as sets have unique values. So, we get the set of all values in 'nums' removing any duplicates.\n",
    "\n",
    "Now we use the python 'difference()' or '-' method for sets, to remove all the values in 'set(nums)' from 'range_n' which we call 'missing_set'. \n",
    "\n",
    "We want to return a list, so we transform 'missing_set' into a list, 'missing_list' which we return to the user. If the list is empty we return -1."
   ]
  },
  {
   "cell_type": "markdown",
   "metadata": {},
   "source": [
    "\n",
    "-   Explain the problem’s time and space complexity\n"
   ]
  },
  {
   "cell_type": "markdown",
   "metadata": {},
   "source": [
    "The time complexity is O(nlogn).\n",
    "\n",
    "Converting the list to 'unique_nums' has at most O(n) time complexity.\n",
    "\n",
    "Creating the set 'n_range' has O(n) complexity. Creating 'set(nums)' and removing it from 'n_range' has O(n)+O(n)= O(n) complexity. \n",
    "\n",
    "Creating 'missing_list' from 'missing_set' has O(m) time complexity, where m =len(missing_set)< n. So this line has time complexity at most O(n).\n",
    "\n",
    "Sorting 'missing_list' has time complexity of O(mlogm) which is less than or equal to O(nlogn), since m<=n.\n",
    "\n",
    "\n",
    "The space complexity is O(n). The function uses storage for the sets 'n_range' and 'missing_set' which take up at most O(n) space complexity. As well\n",
    "as the final list 'missing_list' which again has space complexity of at most O(n).\n"
   ]
  },
  {
   "cell_type": "markdown",
   "metadata": {},
   "source": [
    "\n",
    "-   Explain the thinking to an alternative solution (no coding required, but a classmate reading this should be able to code it up based off your text)\n"
   ]
  },
  {
   "cell_type": "markdown",
   "metadata": {},
   "source": [
    "The code for this solution is shown in the cell below.\n",
    "\n",
    "We use the fact that sets have no duplicate values and create the new list 'unique_nums' (using the values from set(nums)).\n",
    "We initally set 'n=0' and our 'missing_list' to be an empty list. \n",
    "\n",
    "We apply a recursive function 'missing_num_rec(unique_nums)', which loops through all of the elements of 'unique_nums'.\n",
    "\n",
    "It adds any intervals of integers that are missing from the range {0,...n}. Once an interval is added, if a number comes up further in the recursion loop that is in this interval it is removed.\n",
    "\n",
    "We need to treat the base case n=0, x=0 separetely, so that 0 is not added again when we include the first interval to 'missing_list'.\n",
    "\n",
    "We return the completed 'missing_list'. If empty we return -1."
   ]
  },
  {
   "cell_type": "code",
   "execution_count": 162,
   "metadata": {},
   "outputs": [
    {
     "name": "stdout",
     "output_type": "stream",
     "text": [
      "1. Expected output [1]:  [1]\n",
      "2. Expected output [2,3,4] [2, 3, 4]\n",
      "3. Expected output [4, 9]:  [4, 9]\n"
     ]
    }
   ],
   "source": [
    "# Alternative solution:\n",
    "\n",
    "def missing_num2(nums):\n",
    "    unique_nums = [x for x in set(nums)]    # O(n)\n",
    "    n=0                                     # O(1)\n",
    "    missing_list = []                       # O(1)\n",
    "\n",
    "    missing_num2_rec(unique_nums, n, missing_list)\n",
    "    if len(missing_list)==0:                    # O(1)\n",
    "        return -1\n",
    "    else: return missing_list\n",
    "\n",
    "def missing_num2_rec(unique_nums, n, missing_list): \n",
    "    if len(unique_nums)==0:                         # O(1)\n",
    "        return\n",
    "    x = unique_nums[0]\n",
    "    if x==0 and n==0:\n",
    "        missing_list += [i for i in range(1, unique_nums[1])]\n",
    "        n= unique_nums[1]\n",
    "    elif x < n:\n",
    "        missing_list.remove(x)                      # O(n)\n",
    "       \n",
    "    elif x > n: \n",
    "        if n==0:\n",
    "            missing_list += [i for i in range(0,x)] # O(n)\n",
    "            n=x     \n",
    "        else:\n",
    "            missing_list += [i for i in range(n+1, x)] # O(n)\n",
    "            n=x\n",
    "      \n",
    "    missing_num2_rec(unique_nums[1:], n, missing_list)   \n",
    "\n",
    "# Test examples\n",
    "print('1. Expected output [1]: ', missing_num([0,2, 2]))\n",
    "\n",
    "print('2. Expected output [2,3,4]', missing_num([5, 0, 1]))\n",
    "\n",
    "print('3. Expected output [4, 9]: ', missing_num([6, 8, 2, 3, 5, 7, 0, 1, 10]))"
   ]
  },
  {
   "cell_type": "markdown",
   "metadata": {},
   "source": [
    "## Evaluation Criteria\n",
    "\n",
    "-   Problem is accurately stated\n",
    "\n",
    "-   Two examples are correct and easily understandable\n",
    "\n",
    "-   Correctness, time, and space complexity of the coding solution\n",
    "\n",
    "-   Clarity in explaining why the solution works, its time and space complexity\n",
    "\n",
    "-   Clarity in the proposal to the alternative solution"
   ]
  },
  {
   "cell_type": "markdown",
   "metadata": {},
   "source": [
    "## Submission Information\n",
    "\n",
    "🚨 **Please review our [Assignment Submission Guide](https://github.com/UofT-DSI/onboarding/blob/main/onboarding_documents/submissions.md)** 🚨 for detailed instructions on how to format, branch, and submit your work. Following these guidelines is crucial for your submissions to be evaluated correctly.\n",
    "\n",
    "### Submission Parameters:\n",
    "* Submission Due Date: `HH:MM AM/PM - DD/MM/YYYY`\n",
    "* The branch name for your repo should be: `assignment-1`\n",
    "* What to submit for this assignment:\n",
    "    * This Jupyter Notebook (assignment_1.ipynb) should be populated and should be the only change in your pull request.\n",
    "* What the pull request link should look like for this assignment: `https://github.com/<your_github_username>/algorithms_and_data_structures/pull/<pr_id>`\n",
    "    * Open a private window in your browser. Copy and paste the link to your pull request into the address bar. Make sure you can see your pull request properly. This helps the technical facilitator and learning support staff review your submission easily.\n",
    "\n",
    "Checklist:\n",
    "- [ ] Create a branch called `assignment-1`.\n",
    "- [ ] Ensure that the repository is public.\n",
    "- [ ] Review [the PR description guidelines](https://github.com/UofT-DSI/onboarding/blob/main/onboarding_documents/submissions.md#guidelines-for-pull-request-descriptions) and adhere to them.\n",
    "- [ ] Verify that the link is accessible in a private browser window.\n",
    "\n",
    "If you encounter any difficulties or have questions, please don't hesitate to reach out to our team via our Slack at `#cohort-3-help`. Our Technical Facilitators and Learning Support staff are here to help you navigate any challenges."
   ]
  }
 ],
 "metadata": {
  "kernelspec": {
   "display_name": "dsi_participant",
   "language": "python",
   "name": "python3"
  },
  "language_info": {
   "codemirror_mode": {
    "name": "ipython",
    "version": 3
   },
   "file_extension": ".py",
   "mimetype": "text/x-python",
   "name": "python",
   "nbconvert_exporter": "python",
   "pygments_lexer": "ipython3",
   "version": "3.9.15"
  }
 },
 "nbformat": 4,
 "nbformat_minor": 2
}
